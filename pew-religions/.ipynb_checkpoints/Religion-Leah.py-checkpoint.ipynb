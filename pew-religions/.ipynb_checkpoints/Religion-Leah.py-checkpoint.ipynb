{
 "cells": [
  {
   "cell_type": "code",
   "execution_count": 1,
   "metadata": {},
   "outputs": [],
   "source": [
    "### Leah Libresco\n",
    "### Leah.Libresco@fivethirtyeight.com"
   ]
  },
  {
   "cell_type": "code",
   "execution_count": 2,
   "metadata": {},
   "outputs": [],
   "source": [
    "import numpy as np\n",
    "import pandas as pd"
   ]
  },
  {
   "cell_type": "code",
   "execution_count": 3,
   "metadata": {},
   "outputs": [],
   "source": [
    "# List of 12 U.S. religious groups stuided by Pew\n",
    "religions = ['Buddhist', 'Catholic', 'Evangel Prot', 'Hindu', 'Hist Black Prot', 'Jehovahs Witness', 'Jewish', 'Mainline Prot', 'Mormon', 'Muslim', 'Orthodox Christian', 'Unaffiliated']"
   ]
  },
  {
   "cell_type": "code",
   "execution_count": 5,
   "metadata": {},
   "outputs": [],
   "source": [
    "# Create a .csv file with a function to write to it \n",
    "csv = open(\"current.csv\", 'w')\n",
    "csv.truncate()\n",
    "\n",
    "def write_row(matrix):\n",
    "  arr = np.asarray(matrix[0])[0]\n",
    "  row = ','.join([str(a) for a in arr]) + '\\n'\n",
    "  csv.write(row)"
   ]
  },
  {
   "cell_type": "code",
   "execution_count": 6,
   "metadata": {},
   "outputs": [],
   "source": [
    "# Intitial distribution of religions in US\n",
    "first = np.matrix([.007, .208, .254, .007, .065, .008, .019, .147, .016, .009, .005, .228])\n",
    "\n",
    "# Normed to sum to 100%\n",
    "current = first / np.sum(first)\n",
    "t0 = current\n",
    "write_row(current)"
   ]
  },
  {
   "cell_type": "code",
   "execution_count": 10,
   "metadata": {},
   "outputs": [
    {
     "data": {
      "text/plain": [
       "matrix([[0.007, 0.208, 0.254, 0.007, 0.065, 0.008, 0.019, 0.147, 0.016,\n",
       "         0.009, 0.005, 0.228]])"
      ]
     },
     "execution_count": 10,
     "metadata": {},
     "output_type": "execute_result"
    }
   ],
   "source": [
    "arr = np.matrix([.007, .208, .254, .007, .065, .008, .019, .147, .016, .009, .005, .228])\n",
    "arr"
   ]
  },
  {
   "cell_type": "code",
   "execution_count": 19,
   "metadata": {},
   "outputs": [],
   "source": [
    "arr = np.asarray(arr[0])[0]"
   ]
  },
  {
   "cell_type": "code",
   "execution_count": 20,
   "metadata": {},
   "outputs": [
    {
     "data": {
      "text/plain": [
       "array([0.007, 0.208, 0.254, 0.007, 0.065, 0.008, 0.019, 0.147, 0.016,\n",
       "       0.009, 0.005, 0.228])"
      ]
     },
     "execution_count": 20,
     "metadata": {},
     "output_type": "execute_result"
    }
   ],
   "source": [
    "arr"
   ]
  },
  {
   "cell_type": "code",
   "execution_count": 21,
   "metadata": {},
   "outputs": [
    {
     "data": {
      "text/plain": [
       "'0.007,0.208,0.254,0.007,0.065,0.008,0.019,0.147,0.016,0.009,0.005,0.228\\n'"
      ]
     },
     "execution_count": 21,
     "metadata": {},
     "output_type": "execute_result"
    }
   ],
   "source": [
    "','.join([str(a) for a in arr]) + '\\n'"
   ]
  },
  {
   "cell_type": "code",
   "execution_count": 7,
   "metadata": {},
   "outputs": [],
   "source": [
    "# Transition matrix \n",
    "trans = np.matrix(((0.390296314, 0.027141947, 0.06791021, 0.001857564, 0, 0, 0.011166082, 0.059762879, 0, 0, 0, 0.396569533),\n",
    "                   (0.005370791, 0.593173325, 0.103151608, 0.000649759, 0.010486747, 0.005563864, 0.002041424, 0.053825329, 0.004760476, 0.001130529, 0.000884429, 0.199488989),\n",
    "                   (0.00371836, 0.023900817, 0.650773331, 0.000250102, 0.016774503, 0.003098214, 0.001865491, 0.122807467, 0.004203107, 0.000186572, 0.002123778, 0.151866648),\n",
    "                   (0, 0, 0.0033732, 0.804072618, 0, 0.001511151, 0, 0.01234639, 0, 0.00209748, 0, 0.17659916),\n",
    "                   (0.002051357, 0.016851659, 0.09549708, 0, 0.699214315, 0.010620473, 0.000338804, 0.024372871, 0.000637016, 0.009406884, 0.000116843, 0.129892558),\n",
    "                   (0, 0.023278276, 0.109573979, 0, 0.077957568, 0.336280578, 0, 0.074844833, 0.007624035, 0, 0, 0.35110361),\n",
    "                   (0.006783201, 0.004082693, 0.014329604, 0, 0, 0.000610585, 0.745731278, 0.009587587, 0, 0, 0.002512334, 0.184058682),\n",
    "                   (0.005770357, 0.038017215, 0.187857555, 0.000467601, 0.008144075, 0.004763516, 0.003601208, 0.451798506, 0.005753587, 0.000965543, 0.00109818, 0.25750798),\n",
    "                   (0.007263135, 0.01684885, 0.06319935, 0.000248467, 0.0059394, 0, 0.001649896, 0.03464334, 0.642777489, 0.002606278, 0, 0.208904711),\n",
    "                   (0, 0.005890381, 0.023573308, 0, 0.011510643, 0, 0.005518343, 0.014032084, 0, 0.772783807, 0, 0.15424369),\n",
    "                   (0.004580353, 0.042045841, 0.089264134\t, 0, 0.00527346, 0, 0, 0.061471387, 0.005979218, 0.009113978, 0.526728084, 0.243246723),\n",
    "                   (0.006438308, 0.044866331, 0.1928814, 0.002035375, 0.04295005, 0.010833621, 0.011541439, 0.09457963, 0.01365141, 0.005884336, 0.002892072, 0.525359211)))\n",
    "\n",
    "# Fertility array\n",
    "fert = np.matrix(((2.1, 2.3, 2.3, 2.1, 2.5, 2.1, 2, 1.9, 3.4, 2.8, 2.1, 1.7)))\n",
    "\n",
    "# Create data frame for printing later\n",
    "religionDataFrame = pd.DataFrame()"
   ]
  },
  {
   "cell_type": "code",
   "execution_count": 8,
   "metadata": {},
   "outputs": [],
   "source": [
    "# Run model\n",
    "for x in range(0,100):\n",
    "\n",
    "    ### beginning of conversion step\n",
    "        \n",
    "    # apply transition matrix to current distribution\n",
    "    current = current * trans\n",
    "    \n",
    "    ### beginning of fertility step\n",
    "    \n",
    "    # divide by two for couple number\n",
    "    current = current/2\n",
    "    \n",
    "    # adjust by fertility\n",
    "    \n",
    "    current = np.multiply(fert, current)\n",
    "    \n",
    "    # normalize to 100%\n",
    "    \n",
    "    current = current / np.sum(current)\n",
    "    \n",
    "    write_row(current)\n",
    "    \n",
    "    # add to data frame\n",
    "    religionDataFrame = religionDataFrame.append(pd.DataFrame(current), ignore_index=True)\n",
    "\n",
    "csv.close()"
   ]
  },
  {
   "cell_type": "code",
   "execution_count": 9,
   "metadata": {},
   "outputs": [
    {
     "data": {
      "text/html": [
       "<div>\n",
       "<style scoped>\n",
       "    .dataframe tbody tr th:only-of-type {\n",
       "        vertical-align: middle;\n",
       "    }\n",
       "\n",
       "    .dataframe tbody tr th {\n",
       "        vertical-align: top;\n",
       "    }\n",
       "\n",
       "    .dataframe thead th {\n",
       "        text-align: right;\n",
       "    }\n",
       "</style>\n",
       "<table border=\"1\" class=\"dataframe\">\n",
       "  <thead>\n",
       "    <tr style=\"text-align: right;\">\n",
       "      <th></th>\n",
       "      <th>Buddhist</th>\n",
       "      <th>Catholic</th>\n",
       "      <th>Evangel Prot</th>\n",
       "      <th>Hindu</th>\n",
       "      <th>Hist Black Prot</th>\n",
       "      <th>Jehovahs Witness</th>\n",
       "      <th>Jewish</th>\n",
       "      <th>Mainline Prot</th>\n",
       "      <th>Mormon</th>\n",
       "      <th>Muslim</th>\n",
       "      <th>Orthodox Christian</th>\n",
       "      <th>Unaffiliated</th>\n",
       "    </tr>\n",
       "  </thead>\n",
       "  <tbody>\n",
       "    <tr>\n",
       "      <th>0</th>\n",
       "      <td>0.007924</td>\n",
       "      <td>0.170263</td>\n",
       "      <td>0.309520</td>\n",
       "      <td>0.006728</td>\n",
       "      <td>0.080042</td>\n",
       "      <td>0.008986</td>\n",
       "      <td>0.018492</td>\n",
       "      <td>0.128123</td>\n",
       "      <td>0.028069</td>\n",
       "      <td>0.013271</td>\n",
       "      <td>0.004466</td>\n",
       "      <td>0.224115</td>\n",
       "    </tr>\n",
       "    <tr>\n",
       "      <th>1</th>\n",
       "      <td>0.007981</td>\n",
       "      <td>0.140118</td>\n",
       "      <td>0.331889</td>\n",
       "      <td>0.006234</td>\n",
       "      <td>0.090308</td>\n",
       "      <td>0.008980</td>\n",
       "      <td>0.017417</td>\n",
       "      <td>0.120477</td>\n",
       "      <td>0.039642</td>\n",
       "      <td>0.017382</td>\n",
       "      <td>0.004070</td>\n",
       "      <td>0.215501</td>\n",
       "    </tr>\n",
       "    <tr>\n",
       "      <th>2</th>\n",
       "      <td>0.007856</td>\n",
       "      <td>0.119514</td>\n",
       "      <td>0.340401</td>\n",
       "      <td>0.005752</td>\n",
       "      <td>0.097890</td>\n",
       "      <td>0.008785</td>\n",
       "      <td>0.016412</td>\n",
       "      <td>0.117260</td>\n",
       "      <td>0.051127</td>\n",
       "      <td>0.021558</td>\n",
       "      <td>0.003812</td>\n",
       "      <td>0.209631</td>\n",
       "    </tr>\n",
       "    <tr>\n",
       "      <th>3</th>\n",
       "      <td>0.007710</td>\n",
       "      <td>0.105453</td>\n",
       "      <td>0.341544</td>\n",
       "      <td>0.005303</td>\n",
       "      <td>0.103242</td>\n",
       "      <td>0.008572</td>\n",
       "      <td>0.015526</td>\n",
       "      <td>0.115117</td>\n",
       "      <td>0.062488</td>\n",
       "      <td>0.025770</td>\n",
       "      <td>0.003629</td>\n",
       "      <td>0.205648</td>\n",
       "    </tr>\n",
       "    <tr>\n",
       "      <th>4</th>\n",
       "      <td>0.007583</td>\n",
       "      <td>0.095775</td>\n",
       "      <td>0.338780</td>\n",
       "      <td>0.004895</td>\n",
       "      <td>0.106781</td>\n",
       "      <td>0.008375</td>\n",
       "      <td>0.014768</td>\n",
       "      <td>0.113124</td>\n",
       "      <td>0.073661</td>\n",
       "      <td>0.029978</td>\n",
       "      <td>0.003485</td>\n",
       "      <td>0.202793</td>\n",
       "    </tr>\n",
       "    <tr>\n",
       "      <th>...</th>\n",
       "      <td>...</td>\n",
       "      <td>...</td>\n",
       "      <td>...</td>\n",
       "      <td>...</td>\n",
       "      <td>...</td>\n",
       "      <td>...</td>\n",
       "      <td>...</td>\n",
       "      <td>...</td>\n",
       "      <td>...</td>\n",
       "      <td>...</td>\n",
       "      <td>...</td>\n",
       "      <td>...</td>\n",
       "    </tr>\n",
       "    <tr>\n",
       "      <th>95</th>\n",
       "      <td>0.007059</td>\n",
       "      <td>0.061435</td>\n",
       "      <td>0.254185</td>\n",
       "      <td>0.002197</td>\n",
       "      <td>0.080723</td>\n",
       "      <td>0.006018</td>\n",
       "      <td>0.010453</td>\n",
       "      <td>0.087171</td>\n",
       "      <td>0.219738</td>\n",
       "      <td>0.081469</td>\n",
       "      <td>0.002315</td>\n",
       "      <td>0.187236</td>\n",
       "    </tr>\n",
       "    <tr>\n",
       "      <th>96</th>\n",
       "      <td>0.007059</td>\n",
       "      <td>0.061436</td>\n",
       "      <td>0.254186</td>\n",
       "      <td>0.002197</td>\n",
       "      <td>0.080723</td>\n",
       "      <td>0.006018</td>\n",
       "      <td>0.010453</td>\n",
       "      <td>0.087172</td>\n",
       "      <td>0.219744</td>\n",
       "      <td>0.081461</td>\n",
       "      <td>0.002315</td>\n",
       "      <td>0.187237</td>\n",
       "    </tr>\n",
       "    <tr>\n",
       "      <th>97</th>\n",
       "      <td>0.007059</td>\n",
       "      <td>0.061436</td>\n",
       "      <td>0.254186</td>\n",
       "      <td>0.002197</td>\n",
       "      <td>0.080722</td>\n",
       "      <td>0.006018</td>\n",
       "      <td>0.010452</td>\n",
       "      <td>0.087172</td>\n",
       "      <td>0.219751</td>\n",
       "      <td>0.081453</td>\n",
       "      <td>0.002315</td>\n",
       "      <td>0.187237</td>\n",
       "    </tr>\n",
       "    <tr>\n",
       "      <th>98</th>\n",
       "      <td>0.007059</td>\n",
       "      <td>0.061436</td>\n",
       "      <td>0.254187</td>\n",
       "      <td>0.002197</td>\n",
       "      <td>0.080722</td>\n",
       "      <td>0.006018</td>\n",
       "      <td>0.010452</td>\n",
       "      <td>0.087172</td>\n",
       "      <td>0.219757</td>\n",
       "      <td>0.081446</td>\n",
       "      <td>0.002315</td>\n",
       "      <td>0.187237</td>\n",
       "    </tr>\n",
       "    <tr>\n",
       "      <th>99</th>\n",
       "      <td>0.007059</td>\n",
       "      <td>0.061436</td>\n",
       "      <td>0.254188</td>\n",
       "      <td>0.002197</td>\n",
       "      <td>0.080722</td>\n",
       "      <td>0.006018</td>\n",
       "      <td>0.010452</td>\n",
       "      <td>0.087173</td>\n",
       "      <td>0.219763</td>\n",
       "      <td>0.081438</td>\n",
       "      <td>0.002315</td>\n",
       "      <td>0.187238</td>\n",
       "    </tr>\n",
       "  </tbody>\n",
       "</table>\n",
       "<p>100 rows × 12 columns</p>\n",
       "</div>"
      ],
      "text/plain": [
       "    Buddhist  Catholic  Evangel Prot     Hindu  Hist Black Prot  \\\n",
       "0   0.007924  0.170263      0.309520  0.006728         0.080042   \n",
       "1   0.007981  0.140118      0.331889  0.006234         0.090308   \n",
       "2   0.007856  0.119514      0.340401  0.005752         0.097890   \n",
       "3   0.007710  0.105453      0.341544  0.005303         0.103242   \n",
       "4   0.007583  0.095775      0.338780  0.004895         0.106781   \n",
       "..       ...       ...           ...       ...              ...   \n",
       "95  0.007059  0.061435      0.254185  0.002197         0.080723   \n",
       "96  0.007059  0.061436      0.254186  0.002197         0.080723   \n",
       "97  0.007059  0.061436      0.254186  0.002197         0.080722   \n",
       "98  0.007059  0.061436      0.254187  0.002197         0.080722   \n",
       "99  0.007059  0.061436      0.254188  0.002197         0.080722   \n",
       "\n",
       "    Jehovahs Witness    Jewish  Mainline Prot    Mormon    Muslim  \\\n",
       "0           0.008986  0.018492       0.128123  0.028069  0.013271   \n",
       "1           0.008980  0.017417       0.120477  0.039642  0.017382   \n",
       "2           0.008785  0.016412       0.117260  0.051127  0.021558   \n",
       "3           0.008572  0.015526       0.115117  0.062488  0.025770   \n",
       "4           0.008375  0.014768       0.113124  0.073661  0.029978   \n",
       "..               ...       ...            ...       ...       ...   \n",
       "95          0.006018  0.010453       0.087171  0.219738  0.081469   \n",
       "96          0.006018  0.010453       0.087172  0.219744  0.081461   \n",
       "97          0.006018  0.010452       0.087172  0.219751  0.081453   \n",
       "98          0.006018  0.010452       0.087172  0.219757  0.081446   \n",
       "99          0.006018  0.010452       0.087173  0.219763  0.081438   \n",
       "\n",
       "    Orthodox Christian  Unaffiliated  \n",
       "0             0.004466      0.224115  \n",
       "1             0.004070      0.215501  \n",
       "2             0.003812      0.209631  \n",
       "3             0.003629      0.205648  \n",
       "4             0.003485      0.202793  \n",
       "..                 ...           ...  \n",
       "95            0.002315      0.187236  \n",
       "96            0.002315      0.187237  \n",
       "97            0.002315      0.187237  \n",
       "98            0.002315      0.187237  \n",
       "99            0.002315      0.187238  \n",
       "\n",
       "[100 rows x 12 columns]"
      ]
     },
     "execution_count": 9,
     "metadata": {},
     "output_type": "execute_result"
    }
   ],
   "source": [
    "# Print data frame with results\n",
    "religionDataFrame.columns = religions\n",
    "religionDataFrame"
   ]
  },
  {
   "cell_type": "code",
   "execution_count": null,
   "metadata": {
    "collapsed": true
   },
   "outputs": [],
   "source": []
  }
 ],
 "metadata": {
  "kernelspec": {
   "display_name": "Python 3",
   "language": "python",
   "name": "python3"
  },
  "language_info": {
   "codemirror_mode": {
    "name": "ipython",
    "version": 3
   },
   "file_extension": ".py",
   "mimetype": "text/x-python",
   "name": "python",
   "nbconvert_exporter": "python",
   "pygments_lexer": "ipython3",
   "version": "3.6.10"
  }
 },
 "nbformat": 4,
 "nbformat_minor": 1
}
